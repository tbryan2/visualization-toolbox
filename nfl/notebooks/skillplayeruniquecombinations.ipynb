{
 "cells": [
  {
   "cell_type": "code",
   "execution_count": 18,
   "metadata": {},
   "outputs": [],
   "source": [
    "# Dependencies\n",
    "import pandas as pd\n",
    "import matplotlib.pyplot as plt\n",
    "import matplotlib as mpl\n",
    "import seaborn as sns\n",
    "from adjustText import adjust_text\n",
    "import numpy as np\n",
    "\n",
    "import nfl_data_py as nfl"
   ]
  },
  {
   "cell_type": "code",
   "execution_count": 19,
   "metadata": {},
   "outputs": [],
   "source": [
    "# Turn off max columns for pandas DataFrame\n",
    "pd.set_option('display.max_columns', None)"
   ]
  },
  {
   "cell_type": "code",
   "execution_count": 20,
   "metadata": {},
   "outputs": [],
   "source": [
    "years = range(2017, 2023)"
   ]
  },
  {
   "cell_type": "code",
   "execution_count": 21,
   "metadata": {},
   "outputs": [
    {
     "name": "stdout",
     "output_type": "stream",
     "text": [
      "2017 done.\n",
      "2018 done.\n",
      "2019 done.\n",
      "2020 done.\n",
      "2021 done.\n",
      "2022 done.\n",
      "Downcasting floats.\n"
     ]
    }
   ],
   "source": [
    "data = nfl.import_pbp_data(years, cache=True, alt_path=\"../cache\")"
   ]
  },
  {
   "cell_type": "code",
   "execution_count": 154,
   "metadata": {},
   "outputs": [],
   "source": [
    "df = data[['game_id', 'play_id', 'season', 'posteam', 'play_type', 'season_type', 'offense_players', 'home_coach', 'away_coach', 'home_team', 'away_team']]"
   ]
  },
  {
   "cell_type": "code",
   "execution_count": 155,
   "metadata": {},
   "outputs": [],
   "source": [
    "# Filter to only where play_type is run or pass\n",
    "df = df[df['play_type'].isin(['run', 'pass'])]\n",
    "\n",
    "# Filter to only where season_type is REG\n",
    "df = df[df['season_type'] == 'REG']"
   ]
  },
  {
   "cell_type": "code",
   "execution_count": 156,
   "metadata": {},
   "outputs": [],
   "source": [
    "ids = nfl.import_ids()"
   ]
  },
  {
   "cell_type": "code",
   "execution_count": 157,
   "metadata": {},
   "outputs": [],
   "source": [
    "ids = ids[['gsis_id', 'position', 'name']]\n",
    "ids = ids.dropna()"
   ]
  },
  {
   "attachments": {},
   "cell_type": "markdown",
   "metadata": {},
   "source": [
    "are you accounbting for differnt order of same players?\n",
    "also should I maybe add a new column for each player and that way I can sum up as I please and get hey this is the coach's top combo? idk\n",
    "\n",
    "unique play_id??"
   ]
  },
  {
   "cell_type": "code",
   "execution_count": 159,
   "metadata": {},
   "outputs": [],
   "source": [
    "# First, we need to create two new columns for the 'coach' and 'team'.\n",
    "# This step is required because the ball can be with either home team or away team.\n",
    "df['coach'] = df.apply(lambda row: row['home_coach'] if row['posteam']\n",
    "                       == row['home_team'] else row['away_coach'], axis=1)\n"
   ]
  },
  {
   "cell_type": "code",
   "execution_count": null,
   "metadata": {},
   "outputs": [],
   "source": [
    "# Unpack the 'offense_players' field into separate rows\n",
    "df = df['offense_players'].str.split(';', expand=True)\\\n",
    "    .stack()\\\n",
    "    .reset_index(level=-1, drop=True)\\\n",
    "    .rename('gsis_id')\\\n",
    "    .reset_index()\\\n",
    "    .merge(df.drop(columns='offense_players'), left_on='index', right_index=True)\n"
   ]
  },
  {
   "cell_type": "code",
   "execution_count": null,
   "metadata": {},
   "outputs": [],
   "source": [
    "# Join with 'ids' dataframe\n",
    "df = df.merge(ids, on='gsis_id')\n"
   ]
  },
  {
   "cell_type": "code",
   "execution_count": null,
   "metadata": {},
   "outputs": [],
   "source": [
    "# Filter for 'WR', 'TE', 'RB' positions\n",
    "df = df[df['position'].isin(['WR', 'TE', 'RB'])]"
   ]
  },
  {
   "cell_type": "code",
   "execution_count": null,
   "metadata": {},
   "outputs": [],
   "source": [
    "# Group by game_id and play_id to get sets of players for each play\n",
    "grouped = df.groupby(['game_id', 'play_id'])[\n",
    "    'gsis_id'].apply(set).reset_index()"
   ]
  },
  {
   "cell_type": "code",
   "execution_count": null,
   "metadata": {},
   "outputs": [],
   "source": [
    "# Rename the new column\n",
    "grouped.rename(columns={'gsis_id': 'players'}, inplace=True)"
   ]
  },
  {
   "cell_type": "code",
   "execution_count": null,
   "metadata": {},
   "outputs": [],
   "source": [
    "# Merge this new dataframe with the original one\n",
    "df = pd.merge(df, grouped, on=['game_id', 'play_id'], how='left')\n"
   ]
  },
  {
   "cell_type": "code",
   "execution_count": null,
   "metadata": {},
   "outputs": [],
   "source": [
    "# Drop the duplicates\n",
    "df = df.drop_duplicates(['game_id', 'play_id'])\n"
   ]
  },
  {
   "cell_type": "code",
   "execution_count": null,
   "metadata": {},
   "outputs": [],
   "source": [
    "# Group by season, coach and the players set, then reset index\n",
    "unique_combinations_df = df.groupby(\n",
    "    ['season', 'coach', 'players']).size().reset_index()\n"
   ]
  },
  {
   "cell_type": "code",
   "execution_count": null,
   "metadata": {},
   "outputs": [],
   "source": [
    "# Now we just need to count unique rows for each season and coach\n",
    "unique_combinations_count = unique_combinations_df.groupby(\n",
    "    ['season', 'coach']).size().reset_index(name='num_unique_combinations')"
   ]
  },
  {
   "cell_type": "code",
   "execution_count": null,
   "metadata": {},
   "outputs": [],
   "source": [
    "# Merge the unique combinations count back into the original dataframe\n",
    "df = pd.merge(df, unique_combinations_count, on=[\n",
    "              'season', 'coach'], how='left')\n"
   ]
  },
  {
   "cell_type": "code",
   "execution_count": null,
   "metadata": {},
   "outputs": [],
   "source": []
  }
 ],
 "metadata": {
  "kernelspec": {
   "display_name": "base",
   "language": "python",
   "name": "python3"
  },
  "language_info": {
   "codemirror_mode": {
    "name": "ipython",
    "version": 3
   },
   "file_extension": ".py",
   "mimetype": "text/x-python",
   "name": "python",
   "nbconvert_exporter": "python",
   "pygments_lexer": "ipython3",
   "version": "3.9.7"
  },
  "orig_nbformat": 4
 },
 "nbformat": 4,
 "nbformat_minor": 2
}
