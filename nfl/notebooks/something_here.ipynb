{
 "cells": [
  {
   "cell_type": "code",
   "execution_count": null,
   "metadata": {},
   "outputs": [],
   "source": [
    "import pandas as pd\n",
    "import nfl_data_py as nfl"
   ]
  },
  {
   "cell_type": "code",
   "execution_count": null,
   "metadata": {},
   "outputs": [],
   "source": [
    "ngs = nfl.import_ngs_data(stat_type='rushing')"
   ]
  },
  {
   "cell_type": "code",
   "execution_count": null,
   "metadata": {},
   "outputs": [],
   "source": [
    "# Group by season and team_abbr and get avg_time_to_los and sort by avg_time_to_los\n",
    "ngs.groupby(['season', 'team_abbr'])\\\n",
    "    .agg({'avg_time_to_los': 'mean'})\\\n",
    "    .reset_index()\\\n",
    "    .sort_values('avg_time_to_los', ascending=False)\n"
   ]
  }
 ],
 "metadata": {
  "language_info": {
   "name": "python"
  },
  "orig_nbformat": 4
 },
 "nbformat": 4,
 "nbformat_minor": 2
}
