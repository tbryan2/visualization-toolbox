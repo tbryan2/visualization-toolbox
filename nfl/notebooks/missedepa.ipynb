{
 "cells": [
  {
   "cell_type": "code",
   "execution_count": 95,
   "metadata": {},
   "outputs": [],
   "source": [
    "# Dependencies\n",
    "import pandas as pd\n",
    "import matplotlib.pyplot as plt\n",
    "import matplotlib as mpl\n",
    "import seaborn as sns\n",
    "from adjustText import adjust_text\n",
    "import numpy as np\n",
    "\n",
    "import nfl_data_py as nfl"
   ]
  },
  {
   "cell_type": "code",
   "execution_count": 96,
   "metadata": {},
   "outputs": [],
   "source": [
    "years = range(2016, 2023)"
   ]
  },
  {
   "cell_type": "code",
   "execution_count": 97,
   "metadata": {},
   "outputs": [],
   "source": [
    "columns = ['season', 'posteam', 'passer','season_type',\n",
    "           'play', 'play_type', 'cp', 'air_epa', 'complete_pass']"
   ]
  },
  {
   "cell_type": "code",
   "execution_count": 98,
   "metadata": {},
   "outputs": [
    {
     "name": "stdout",
     "output_type": "stream",
     "text": [
      "2016 done.\n",
      "2017 done.\n",
      "2018 done.\n",
      "2019 done.\n",
      "2020 done.\n",
      "2021 done.\n",
      "2022 done.\n",
      "Downcasting floats.\n"
     ]
    }
   ],
   "source": [
    "data = nfl.import_pbp_data(years, cache=True, alt_path='../cache', columns=columns)\n",
    "\n",
    "data = data[columns]"
   ]
  },
  {
   "cell_type": "code",
   "execution_count": 99,
   "metadata": {},
   "outputs": [],
   "source": [
    "df = data[(data['season_type'] == 'REG') &\\\n",
    "           (data['play'] == 1.0) &\\\n",
    "              (data['play_type'] == 'pass')]\n",
    "\n",
    "df = df.drop(['season_type', 'play', 'play_type'], axis=1)"
   ]
  },
  {
   "cell_type": "code",
   "execution_count": 100,
   "metadata": {},
   "outputs": [],
   "source": [
    "# Keep only incomplete passes\n",
    "df = df[df['complete_pass'] == 0]"
   ]
  },
  {
   "cell_type": "code",
   "execution_count": 101,
   "metadata": {},
   "outputs": [],
   "source": [
    "# Keep only where cp is over 0.9\n",
    "df = df[df['cp'] > 0.75]"
   ]
  },
  {
   "cell_type": "code",
   "execution_count": 102,
   "metadata": {},
   "outputs": [],
   "source": [
    "# get the sum of air_epa for each passer and season\n",
    "df = df.groupby(['season', 'posteam', 'passer']).sum().reset_index()"
   ]
  },
  {
   "cell_type": "code",
   "execution_count": 103,
   "metadata": {},
   "outputs": [],
   "source": [
    "# print the top 5 passers by air_epa\n",
    "df = df.sort_values('air_epa')"
   ]
  },
  {
   "cell_type": "code",
   "execution_count": 104,
   "metadata": {},
   "outputs": [
    {
     "data": {
      "text/html": [
       "<div>\n",
       "<style scoped>\n",
       "    .dataframe tbody tr th:only-of-type {\n",
       "        vertical-align: middle;\n",
       "    }\n",
       "\n",
       "    .dataframe tbody tr th {\n",
       "        vertical-align: top;\n",
       "    }\n",
       "\n",
       "    .dataframe thead th {\n",
       "        text-align: right;\n",
       "    }\n",
       "</style>\n",
       "<table border=\"1\" class=\"dataframe\">\n",
       "  <thead>\n",
       "    <tr style=\"text-align: right;\">\n",
       "      <th></th>\n",
       "      <th>season</th>\n",
       "      <th>posteam</th>\n",
       "      <th>passer</th>\n",
       "      <th>cp</th>\n",
       "      <th>air_epa</th>\n",
       "      <th>complete_pass</th>\n",
       "    </tr>\n",
       "  </thead>\n",
       "  <tbody>\n",
       "    <tr>\n",
       "      <th>158</th>\n",
       "      <td>2018</td>\n",
       "      <td>MIN</td>\n",
       "      <td>K.Cousins</td>\n",
       "      <td>44.959315</td>\n",
       "      <td>-40.243399</td>\n",
       "      <td>0.0</td>\n",
       "    </tr>\n",
       "    <tr>\n",
       "      <th>107</th>\n",
       "      <td>2017</td>\n",
       "      <td>NYG</td>\n",
       "      <td>E.Manning</td>\n",
       "      <td>37.785266</td>\n",
       "      <td>-31.279229</td>\n",
       "      <td>0.0</td>\n",
       "    </tr>\n",
       "    <tr>\n",
       "      <th>333</th>\n",
       "      <td>2021</td>\n",
       "      <td>DAL</td>\n",
       "      <td>D.Prescott</td>\n",
       "      <td>38.311405</td>\n",
       "      <td>-30.053071</td>\n",
       "      <td>0.0</td>\n",
       "    </tr>\n",
       "    <tr>\n",
       "      <th>370</th>\n",
       "      <td>2021</td>\n",
       "      <td>PIT</td>\n",
       "      <td>B.Roethlisberger</td>\n",
       "      <td>44.223790</td>\n",
       "      <td>-29.228260</td>\n",
       "      <td>0.0</td>\n",
       "    </tr>\n",
       "    <tr>\n",
       "      <th>453</th>\n",
       "      <td>2022</td>\n",
       "      <td>TB</td>\n",
       "      <td>T.Brady</td>\n",
       "      <td>51.512779</td>\n",
       "      <td>-27.880229</td>\n",
       "      <td>0.0</td>\n",
       "    </tr>\n",
       "    <tr>\n",
       "      <th>...</th>\n",
       "      <td>...</td>\n",
       "      <td>...</td>\n",
       "      <td>...</td>\n",
       "      <td>...</td>\n",
       "      <td>...</td>\n",
       "      <td>...</td>\n",
       "    </tr>\n",
       "    <tr>\n",
       "      <th>48</th>\n",
       "      <td>2016</td>\n",
       "      <td>NYJ</td>\n",
       "      <td>G.Smith</td>\n",
       "      <td>0.767387</td>\n",
       "      <td>0.279076</td>\n",
       "      <td>0.0</td>\n",
       "    </tr>\n",
       "    <tr>\n",
       "      <th>415</th>\n",
       "      <td>2022</td>\n",
       "      <td>JAX</td>\n",
       "      <td>C.Beathard</td>\n",
       "      <td>0.768136</td>\n",
       "      <td>0.378787</td>\n",
       "      <td>0.0</td>\n",
       "    </tr>\n",
       "    <tr>\n",
       "      <th>364</th>\n",
       "      <td>2021</td>\n",
       "      <td>NYJ</td>\n",
       "      <td>J.Flacco</td>\n",
       "      <td>0.783365</td>\n",
       "      <td>0.412201</td>\n",
       "      <td>0.0</td>\n",
       "    </tr>\n",
       "    <tr>\n",
       "      <th>266</th>\n",
       "      <td>2020</td>\n",
       "      <td>DET</td>\n",
       "      <td>C.Daniel</td>\n",
       "      <td>2.356663</td>\n",
       "      <td>0.717814</td>\n",
       "      <td>0.0</td>\n",
       "    </tr>\n",
       "    <tr>\n",
       "      <th>423</th>\n",
       "      <td>2022</td>\n",
       "      <td>LA</td>\n",
       "      <td>J.Wolford</td>\n",
       "      <td>4.820647</td>\n",
       "      <td>0.911604</td>\n",
       "      <td>0.0</td>\n",
       "    </tr>\n",
       "  </tbody>\n",
       "</table>\n",
       "<p>459 rows × 6 columns</p>\n",
       "</div>"
      ],
      "text/plain": [
       "     season posteam            passer         cp    air_epa  complete_pass\n",
       "158    2018     MIN         K.Cousins  44.959315 -40.243399            0.0\n",
       "107    2017     NYG         E.Manning  37.785266 -31.279229            0.0\n",
       "333    2021     DAL        D.Prescott  38.311405 -30.053071            0.0\n",
       "370    2021     PIT  B.Roethlisberger  44.223790 -29.228260            0.0\n",
       "453    2022      TB           T.Brady  51.512779 -27.880229            0.0\n",
       "..      ...     ...               ...        ...        ...            ...\n",
       "48     2016     NYJ           G.Smith   0.767387   0.279076            0.0\n",
       "415    2022     JAX        C.Beathard   0.768136   0.378787            0.0\n",
       "364    2021     NYJ          J.Flacco   0.783365   0.412201            0.0\n",
       "266    2020     DET          C.Daniel   2.356663   0.717814            0.0\n",
       "423    2022      LA         J.Wolford   4.820647   0.911604            0.0\n",
       "\n",
       "[459 rows x 6 columns]"
      ]
     },
     "execution_count": 104,
     "metadata": {},
     "output_type": "execute_result"
    }
   ],
   "source": [
    "df"
   ]
  },
  {
   "cell_type": "code",
   "execution_count": null,
   "metadata": {},
   "outputs": [],
   "source": []
  }
 ],
 "metadata": {
  "kernelspec": {
   "display_name": "Python 3",
   "language": "python",
   "name": "python3"
  },
  "language_info": {
   "codemirror_mode": {
    "name": "ipython",
    "version": 3
   },
   "file_extension": ".py",
   "mimetype": "text/x-python",
   "name": "python",
   "nbconvert_exporter": "python",
   "pygments_lexer": "ipython3",
   "version": "3.10.12"
  },
  "orig_nbformat": 4
 },
 "nbformat": 4,
 "nbformat_minor": 2
}
