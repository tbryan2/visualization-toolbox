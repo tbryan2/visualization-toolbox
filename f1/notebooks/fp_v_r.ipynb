{
 "cells": [
  {
   "cell_type": "code",
   "execution_count": 1,
   "metadata": {},
   "outputs": [],
   "source": [
    "# Dependencies\n",
    "from adjustText import adjust_text\n",
    "from fastf1.ergast import Ergast\n",
    "import fastf1 as ff1\n",
    "import seaborn as sns\n",
    "import matplotlib.pyplot as plt\n",
    "import matplotlib as mpl\n",
    "import os\n",
    "import numpy as np\n",
    "import pandas as pd\n",
    "import sys\n",
    "sys.path.append(\"..\")\n",
    "\n",
    "\n",
    "ergast = Ergast()"
   ]
  },
  {
   "cell_type": "code",
   "execution_count": 2,
   "metadata": {},
   "outputs": [],
   "source": [
    "# Create a directory for cache if it doesn't exist\n",
    "if not os.path.exists('../cache'):\n",
    "    os.makedirs('../cache')"
   ]
  },
  {
   "cell_type": "code",
   "execution_count": 3,
   "metadata": {},
   "outputs": [],
   "source": [
    "# Enable fastf1 cache\n",
    "ff1.Cache.enable_cache('../cache')"
   ]
  },
  {
   "cell_type": "code",
   "execution_count": null,
   "metadata": {},
   "outputs": [],
   "source": []
  },
  {
   "cell_type": "code",
   "execution_count": null,
   "metadata": {},
   "outputs": [],
   "source": [
    "def get_fp1_results(year, circuit):\n",
    "    '''\n",
    "    Get the qualifying results for a given year and circuit.\n",
    "    '''\n",
    "    session = ff1.get_session(year, circuit, 'Q')\n",
    "    session.load(telemetry=False)\n",
    "\n",
    "    data = session.results\n",
    "    data['Year'] = year\n",
    "    data['Circuit'] = circuit\n",
    "\n",
    "    data = data[['DriverId', 'Year', 'Circuit', 'Position']]\n",
    "\n",
    "    return data\n"
   ]
  }
 ],
 "metadata": {
  "kernelspec": {
   "display_name": "base",
   "language": "python",
   "name": "python3"
  },
  "language_info": {
   "codemirror_mode": {
    "name": "ipython",
    "version": 3
   },
   "file_extension": ".py",
   "mimetype": "text/x-python",
   "name": "python",
   "nbconvert_exporter": "python",
   "pygments_lexer": "ipython3",
   "version": "3.9.7"
  },
  "orig_nbformat": 4
 },
 "nbformat": 4,
 "nbformat_minor": 2
}
